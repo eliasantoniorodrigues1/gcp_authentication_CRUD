import pandas as pd
from google.colab import auth
auth.authenticate_user()

project_id = 'ga360-localiza'
table = 'crm_analytics.moedas_historico_cotacoes'

df = pd.read_csv('currency_history_rates_USD_missing.csv')
df

new_columns = ['paridade', 'nome', 'unidades_por_codigo', 'code_por_unidade', 'data_atualizacao', 'codigo']
df.drop(columns=['index'], inplace=True)
df.columns = new_columns

df

columns = df.columns.tolist()
print(columns)

new_position_column = df.pop(columns[-1])
df.insert(0, 'codigo', new_position_column)

df

from google.cloud import bigquery

client = bigquery.Client(project=project_id)
table = client.get_table(table)
table

# dict compherension
generate_schema = [{'name': i.name, 'type': i.field_type} for i in table.schema]
generate_schema


# inserting with generate Schema
df.to_gbq(project_id=project_id, destination_table=table, table_schema=generate_schema, progress_bar=True, if_exists='append')
